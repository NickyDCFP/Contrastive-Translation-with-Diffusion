{
 "cells": [
  {
   "cell_type": "code",
   "execution_count": 62,
   "metadata": {},
   "outputs": [],
   "source": [
    "from style_enc import StyleEncoder\n",
    "import torch.nn as nn\n",
    "from torchsummary import summary\n",
    "from data_music import get_gtzan, get_metadata, encode_spectrogram"
   ]
  },
  {
   "cell_type": "code",
   "execution_count": 63,
   "metadata": {},
   "outputs": [],
   "source": [
    "gtzan = get_gtzan('./dataset/GTZAN')\n",
    "w = gtzan[0][0]\n",
    "spec = encode_spectrogram(w, get_metadata()).cuda()"
   ]
  },
  {
   "cell_type": "code",
   "execution_count": 65,
   "metadata": {},
   "outputs": [],
   "source": [
    "a = StyleEncoder().cuda()"
   ]
  },
  {
   "cell_type": "code",
   "execution_count": 66,
   "metadata": {},
   "outputs": [
    {
     "name": "stdout",
     "output_type": "stream",
     "text": [
      "----------------------------------------------------------------\n",
      "        Layer (type)               Output Shape         Param #\n",
      "================================================================\n",
      "            Conv2d-1          [-1, 16, 63, 511]             160\n",
      "       BatchNorm2d-2          [-1, 16, 63, 511]              32\n",
      "              ReLU-3          [-1, 16, 63, 511]               0\n",
      "         AvgPool2d-4          [-1, 16, 31, 255]               0\n",
      "            Conv2d-5          [-1, 32, 15, 127]           4,640\n",
      "       BatchNorm2d-6          [-1, 32, 15, 127]              64\n",
      "              ReLU-7          [-1, 32, 15, 127]               0\n",
      "         AvgPool2d-8            [-1, 32, 7, 63]               0\n",
      "            Conv2d-9            [-1, 64, 3, 31]          18,496\n",
      "      BatchNorm2d-10            [-1, 64, 3, 31]             128\n",
      "             ReLU-11            [-1, 64, 3, 31]               0\n",
      "           Conv2d-12           [-1, 128, 1, 15]          73,856\n",
      "      BatchNorm2d-13           [-1, 128, 1, 15]             256\n",
      "             ReLU-14           [-1, 128, 1, 15]               0\n",
      "          Flatten-15                 [-1, 1920]               0\n",
      "           Linear-16                  [-1, 256]         491,776\n",
      "================================================================\n",
      "Total params: 589,408\n",
      "Trainable params: 589,408\n",
      "Non-trainable params: 0\n",
      "----------------------------------------------------------------\n",
      "Input size (MB): 0.50\n",
      "Forward/backward pass size (MB): 14.45\n",
      "Params size (MB): 2.25\n",
      "Estimated Total Size (MB): 17.20\n",
      "----------------------------------------------------------------\n",
      "None\n"
     ]
    }
   ],
   "source": [
    "print(summary(a, input_size=spec.size()))"
   ]
  }
 ],
 "metadata": {
  "kernelspec": {
   "display_name": "base",
   "language": "python",
   "name": "python3"
  },
  "language_info": {
   "codemirror_mode": {
    "name": "ipython",
    "version": 3
   },
   "file_extension": ".py",
   "mimetype": "text/x-python",
   "name": "python",
   "nbconvert_exporter": "python",
   "pygments_lexer": "ipython3",
   "version": "3.10.9"
  }
 },
 "nbformat": 4,
 "nbformat_minor": 2
}
